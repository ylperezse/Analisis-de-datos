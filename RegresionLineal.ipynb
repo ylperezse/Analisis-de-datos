{
 "cells": [
  {
   "cell_type": "code",
   "execution_count": 569,
   "id": "94df72b9-795d-44c0-8d0a-2258296abb9c",
   "metadata": {},
   "outputs": [
    {
     "name": "stdout",
     "output_type": "stream",
     "text": [
      "Requirement already satisfied: numpy in c:\\users\\lizzeth\\anaconda3\\lib\\site-packages (1.26.4)\n",
      "Requirement already satisfied: pandas in c:\\users\\lizzeth\\anaconda3\\lib\\site-packages (2.2.2)\n",
      "Requirement already satisfied: scikit-learn in c:\\users\\lizzeth\\anaconda3\\lib\\site-packages (1.4.2)\n",
      "Requirement already satisfied: matplotlib in c:\\users\\lizzeth\\anaconda3\\lib\\site-packages (3.8.4)\n",
      "Requirement already satisfied: python-dateutil>=2.8.2 in c:\\users\\lizzeth\\anaconda3\\lib\\site-packages (from pandas) (2.9.0.post0)\n",
      "Requirement already satisfied: pytz>=2020.1 in c:\\users\\lizzeth\\anaconda3\\lib\\site-packages (from pandas) (2024.1)\n",
      "Requirement already satisfied: tzdata>=2022.7 in c:\\users\\lizzeth\\anaconda3\\lib\\site-packages (from pandas) (2023.3)\n",
      "Requirement already satisfied: scipy>=1.6.0 in c:\\users\\lizzeth\\anaconda3\\lib\\site-packages (from scikit-learn) (1.13.1)\n",
      "Requirement already satisfied: joblib>=1.2.0 in c:\\users\\lizzeth\\anaconda3\\lib\\site-packages (from scikit-learn) (1.4.2)\n",
      "Requirement already satisfied: threadpoolctl>=2.0.0 in c:\\users\\lizzeth\\anaconda3\\lib\\site-packages (from scikit-learn) (2.2.0)\n",
      "Requirement already satisfied: contourpy>=1.0.1 in c:\\users\\lizzeth\\anaconda3\\lib\\site-packages (from matplotlib) (1.2.0)\n",
      "Requirement already satisfied: cycler>=0.10 in c:\\users\\lizzeth\\anaconda3\\lib\\site-packages (from matplotlib) (0.11.0)\n",
      "Requirement already satisfied: fonttools>=4.22.0 in c:\\users\\lizzeth\\anaconda3\\lib\\site-packages (from matplotlib) (4.51.0)\n",
      "Requirement already satisfied: kiwisolver>=1.3.1 in c:\\users\\lizzeth\\anaconda3\\lib\\site-packages (from matplotlib) (1.4.4)\n",
      "Requirement already satisfied: packaging>=20.0 in c:\\users\\lizzeth\\anaconda3\\lib\\site-packages (from matplotlib) (23.2)\n",
      "Requirement already satisfied: pillow>=8 in c:\\users\\lizzeth\\anaconda3\\lib\\site-packages (from matplotlib) (10.3.0)\n",
      "Requirement already satisfied: pyparsing>=2.3.1 in c:\\users\\lizzeth\\anaconda3\\lib\\site-packages (from matplotlib) (3.0.9)\n",
      "Requirement already satisfied: six>=1.5 in c:\\users\\lizzeth\\anaconda3\\lib\\site-packages (from python-dateutil>=2.8.2->pandas) (1.16.0)\n",
      "Note: you may need to restart the kernel to use updated packages.\n"
     ]
    }
   ],
   "source": [
    "pip install numpy pandas scikit-learn matplotlib"
   ]
  },
  {
   "cell_type": "code",
   "execution_count": 571,
   "id": "e0042217-8f4f-4ca9-aa31-8e4365bc837a",
   "metadata": {},
   "outputs": [],
   "source": [
    "# Importar librerias necesarias\n",
    "import numpy as np\n",
    "import pandas as pd\n",
    "import matplotlib.pyplot as plt\n",
    "import time\n",
    "import seaborn as sns\n",
    "\n",
    "# librerías de para implementar modelos de ciencia de datos\n",
    "from sklearn.linear_model import LinearRegression\n",
    "from statistics import mode\n",
    "from sklearn.model_selection import train_test_split\n",
    "from sklearn.preprocessing import StandardScaler\n",
    "from sklearn.metrics import mean_squared_error,r2_score\n",
    "from sklearn.metrics import classification_report, confusion_matrix, ConfusionMatrixDisplay"
   ]
  },
  {
   "cell_type": "code",
   "execution_count": 665,
   "id": "261261a5-c71c-4aa9-aa41-f28debc9f8bd",
   "metadata": {},
   "outputs": [],
   "source": [
    "# Apuntamiento a la base de datos cargado desde mi equipo\n",
    "BD = pd.read_csv(\"C:/Users/lizzeth/Documents/UNAD/2 SEMESTRE/ANALISIS DE DATOS/archive/Car details v3.csv\")"
   ]
  },
  {
   "cell_type": "code",
   "execution_count": 667,
   "id": "3a5befce-fef0-45d5-a910-e82d8f33baec",
   "metadata": {},
   "outputs": [
    {
     "data": {
      "text/html": [
       "<div>\n",
       "<style scoped>\n",
       "    .dataframe tbody tr th:only-of-type {\n",
       "        vertical-align: middle;\n",
       "    }\n",
       "\n",
       "    .dataframe tbody tr th {\n",
       "        vertical-align: top;\n",
       "    }\n",
       "\n",
       "    .dataframe thead th {\n",
       "        text-align: right;\n",
       "    }\n",
       "</style>\n",
       "<table border=\"1\" class=\"dataframe\">\n",
       "  <thead>\n",
       "    <tr style=\"text-align: right;\">\n",
       "      <th></th>\n",
       "      <th>name</th>\n",
       "      <th>year</th>\n",
       "      <th>selling_price</th>\n",
       "      <th>km_driven</th>\n",
       "      <th>fuel</th>\n",
       "      <th>seller_type</th>\n",
       "      <th>transmission</th>\n",
       "      <th>owner</th>\n",
       "      <th>mileage</th>\n",
       "      <th>engine</th>\n",
       "      <th>max_power</th>\n",
       "      <th>torque</th>\n",
       "      <th>seats</th>\n",
       "    </tr>\n",
       "  </thead>\n",
       "  <tbody>\n",
       "    <tr>\n",
       "      <th>0</th>\n",
       "      <td>Maruti Swift Dzire VDI</td>\n",
       "      <td>2014</td>\n",
       "      <td>450000</td>\n",
       "      <td>145500</td>\n",
       "      <td>Diesel</td>\n",
       "      <td>Individual</td>\n",
       "      <td>Manual</td>\n",
       "      <td>First Owner</td>\n",
       "      <td>23.4 kmpl</td>\n",
       "      <td>1248 CC</td>\n",
       "      <td>74 bhp</td>\n",
       "      <td>190Nm@ 2000rpm</td>\n",
       "      <td>5.0</td>\n",
       "    </tr>\n",
       "    <tr>\n",
       "      <th>1</th>\n",
       "      <td>Skoda Rapid 1.5 TDI Ambition</td>\n",
       "      <td>2014</td>\n",
       "      <td>370000</td>\n",
       "      <td>120000</td>\n",
       "      <td>Diesel</td>\n",
       "      <td>Individual</td>\n",
       "      <td>Manual</td>\n",
       "      <td>Second Owner</td>\n",
       "      <td>21.14 kmpl</td>\n",
       "      <td>1498 CC</td>\n",
       "      <td>103.52 bhp</td>\n",
       "      <td>250Nm@ 1500-2500rpm</td>\n",
       "      <td>5.0</td>\n",
       "    </tr>\n",
       "    <tr>\n",
       "      <th>2</th>\n",
       "      <td>Honda City 2017-2020 EXi</td>\n",
       "      <td>2006</td>\n",
       "      <td>158000</td>\n",
       "      <td>140000</td>\n",
       "      <td>Petrol</td>\n",
       "      <td>Individual</td>\n",
       "      <td>Manual</td>\n",
       "      <td>Third Owner</td>\n",
       "      <td>17.7 kmpl</td>\n",
       "      <td>1497 CC</td>\n",
       "      <td>78 bhp</td>\n",
       "      <td>12.7@ 2,700(kgm@ rpm)</td>\n",
       "      <td>5.0</td>\n",
       "    </tr>\n",
       "    <tr>\n",
       "      <th>3</th>\n",
       "      <td>Hyundai i20 Sportz Diesel</td>\n",
       "      <td>2010</td>\n",
       "      <td>225000</td>\n",
       "      <td>127000</td>\n",
       "      <td>Diesel</td>\n",
       "      <td>Individual</td>\n",
       "      <td>Manual</td>\n",
       "      <td>First Owner</td>\n",
       "      <td>23.0 kmpl</td>\n",
       "      <td>1396 CC</td>\n",
       "      <td>90 bhp</td>\n",
       "      <td>22.4 kgm at 1750-2750rpm</td>\n",
       "      <td>5.0</td>\n",
       "    </tr>\n",
       "    <tr>\n",
       "      <th>4</th>\n",
       "      <td>Maruti Swift VXI BSIII</td>\n",
       "      <td>2007</td>\n",
       "      <td>130000</td>\n",
       "      <td>120000</td>\n",
       "      <td>Petrol</td>\n",
       "      <td>Individual</td>\n",
       "      <td>Manual</td>\n",
       "      <td>First Owner</td>\n",
       "      <td>16.1 kmpl</td>\n",
       "      <td>1298 CC</td>\n",
       "      <td>88.2 bhp</td>\n",
       "      <td>11.5@ 4,500(kgm@ rpm)</td>\n",
       "      <td>5.0</td>\n",
       "    </tr>\n",
       "  </tbody>\n",
       "</table>\n",
       "</div>"
      ],
      "text/plain": [
       "                           name  year  selling_price  km_driven    fuel  \\\n",
       "0        Maruti Swift Dzire VDI  2014         450000     145500  Diesel   \n",
       "1  Skoda Rapid 1.5 TDI Ambition  2014         370000     120000  Diesel   \n",
       "2      Honda City 2017-2020 EXi  2006         158000     140000  Petrol   \n",
       "3     Hyundai i20 Sportz Diesel  2010         225000     127000  Diesel   \n",
       "4        Maruti Swift VXI BSIII  2007         130000     120000  Petrol   \n",
       "\n",
       "  seller_type transmission         owner     mileage   engine   max_power  \\\n",
       "0  Individual       Manual   First Owner   23.4 kmpl  1248 CC      74 bhp   \n",
       "1  Individual       Manual  Second Owner  21.14 kmpl  1498 CC  103.52 bhp   \n",
       "2  Individual       Manual   Third Owner   17.7 kmpl  1497 CC      78 bhp   \n",
       "3  Individual       Manual   First Owner   23.0 kmpl  1396 CC      90 bhp   \n",
       "4  Individual       Manual   First Owner   16.1 kmpl  1298 CC    88.2 bhp   \n",
       "\n",
       "                     torque  seats  \n",
       "0            190Nm@ 2000rpm    5.0  \n",
       "1       250Nm@ 1500-2500rpm    5.0  \n",
       "2     12.7@ 2,700(kgm@ rpm)    5.0  \n",
       "3  22.4 kgm at 1750-2750rpm    5.0  \n",
       "4     11.5@ 4,500(kgm@ rpm)    5.0  "
      ]
     },
     "execution_count": 667,
     "metadata": {},
     "output_type": "execute_result"
    }
   ],
   "source": [
    "# Muestra la información de la base de datos\n",
    "BD.head()"
   ]
  },
  {
   "cell_type": "code",
   "execution_count": 669,
   "id": "53c08831-c2f1-4e5f-ba89-0518aa998a2b",
   "metadata": {},
   "outputs": [
    {
     "data": {
      "text/plain": [
       "(8128, 13)"
      ]
     },
     "execution_count": 669,
     "metadata": {},
     "output_type": "execute_result"
    }
   ],
   "source": [
    "# Para saber cuantos campos tiene nuestra base (filas - columnas)\n",
    "BD.shape"
   ]
  },
  {
   "cell_type": "code",
   "execution_count": 671,
   "id": "053042bd-a45b-49e5-bd9e-c64e4779f0a2",
   "metadata": {},
   "outputs": [
    {
     "data": {
      "text/html": [
       "<div>\n",
       "<style scoped>\n",
       "    .dataframe tbody tr th:only-of-type {\n",
       "        vertical-align: middle;\n",
       "    }\n",
       "\n",
       "    .dataframe tbody tr th {\n",
       "        vertical-align: top;\n",
       "    }\n",
       "\n",
       "    .dataframe thead th {\n",
       "        text-align: right;\n",
       "    }\n",
       "</style>\n",
       "<table border=\"1\" class=\"dataframe\">\n",
       "  <thead>\n",
       "    <tr style=\"text-align: right;\">\n",
       "      <th></th>\n",
       "      <th>name</th>\n",
       "      <th>year</th>\n",
       "      <th>selling_price</th>\n",
       "      <th>km_driven</th>\n",
       "      <th>fuel</th>\n",
       "      <th>seller_type</th>\n",
       "      <th>transmission</th>\n",
       "      <th>owner</th>\n",
       "      <th>mileage</th>\n",
       "      <th>engine</th>\n",
       "      <th>max_power</th>\n",
       "      <th>torque</th>\n",
       "      <th>seats</th>\n",
       "    </tr>\n",
       "  </thead>\n",
       "  <tbody>\n",
       "    <tr>\n",
       "      <th>8123</th>\n",
       "      <td>Hyundai i20 Magna</td>\n",
       "      <td>2013</td>\n",
       "      <td>320000</td>\n",
       "      <td>110000</td>\n",
       "      <td>Petrol</td>\n",
       "      <td>Individual</td>\n",
       "      <td>Manual</td>\n",
       "      <td>First Owner</td>\n",
       "      <td>18.5 kmpl</td>\n",
       "      <td>1197 CC</td>\n",
       "      <td>82.85 bhp</td>\n",
       "      <td>113.7Nm@ 4000rpm</td>\n",
       "      <td>5.0</td>\n",
       "    </tr>\n",
       "    <tr>\n",
       "      <th>8124</th>\n",
       "      <td>Hyundai Verna CRDi SX</td>\n",
       "      <td>2007</td>\n",
       "      <td>135000</td>\n",
       "      <td>119000</td>\n",
       "      <td>Diesel</td>\n",
       "      <td>Individual</td>\n",
       "      <td>Manual</td>\n",
       "      <td>Fourth &amp; Above Owner</td>\n",
       "      <td>16.8 kmpl</td>\n",
       "      <td>1493 CC</td>\n",
       "      <td>110 bhp</td>\n",
       "      <td>24@ 1,900-2,750(kgm@ rpm)</td>\n",
       "      <td>5.0</td>\n",
       "    </tr>\n",
       "    <tr>\n",
       "      <th>8125</th>\n",
       "      <td>Maruti Swift Dzire ZDi</td>\n",
       "      <td>2009</td>\n",
       "      <td>382000</td>\n",
       "      <td>120000</td>\n",
       "      <td>Diesel</td>\n",
       "      <td>Individual</td>\n",
       "      <td>Manual</td>\n",
       "      <td>First Owner</td>\n",
       "      <td>19.3 kmpl</td>\n",
       "      <td>1248 CC</td>\n",
       "      <td>73.9 bhp</td>\n",
       "      <td>190Nm@ 2000rpm</td>\n",
       "      <td>5.0</td>\n",
       "    </tr>\n",
       "    <tr>\n",
       "      <th>8126</th>\n",
       "      <td>Tata Indigo CR4</td>\n",
       "      <td>2013</td>\n",
       "      <td>290000</td>\n",
       "      <td>25000</td>\n",
       "      <td>Diesel</td>\n",
       "      <td>Individual</td>\n",
       "      <td>Manual</td>\n",
       "      <td>First Owner</td>\n",
       "      <td>23.57 kmpl</td>\n",
       "      <td>1396 CC</td>\n",
       "      <td>70 bhp</td>\n",
       "      <td>140Nm@ 1800-3000rpm</td>\n",
       "      <td>5.0</td>\n",
       "    </tr>\n",
       "    <tr>\n",
       "      <th>8127</th>\n",
       "      <td>Tata Indigo CR4</td>\n",
       "      <td>2013</td>\n",
       "      <td>290000</td>\n",
       "      <td>25000</td>\n",
       "      <td>Diesel</td>\n",
       "      <td>Individual</td>\n",
       "      <td>Manual</td>\n",
       "      <td>First Owner</td>\n",
       "      <td>23.57 kmpl</td>\n",
       "      <td>1396 CC</td>\n",
       "      <td>70 bhp</td>\n",
       "      <td>140Nm@ 1800-3000rpm</td>\n",
       "      <td>5.0</td>\n",
       "    </tr>\n",
       "  </tbody>\n",
       "</table>\n",
       "</div>"
      ],
      "text/plain": [
       "                        name  year  selling_price  km_driven    fuel  \\\n",
       "8123       Hyundai i20 Magna  2013         320000     110000  Petrol   \n",
       "8124   Hyundai Verna CRDi SX  2007         135000     119000  Diesel   \n",
       "8125  Maruti Swift Dzire ZDi  2009         382000     120000  Diesel   \n",
       "8126         Tata Indigo CR4  2013         290000      25000  Diesel   \n",
       "8127         Tata Indigo CR4  2013         290000      25000  Diesel   \n",
       "\n",
       "     seller_type transmission                 owner     mileage   engine  \\\n",
       "8123  Individual       Manual           First Owner   18.5 kmpl  1197 CC   \n",
       "8124  Individual       Manual  Fourth & Above Owner   16.8 kmpl  1493 CC   \n",
       "8125  Individual       Manual           First Owner   19.3 kmpl  1248 CC   \n",
       "8126  Individual       Manual           First Owner  23.57 kmpl  1396 CC   \n",
       "8127  Individual       Manual           First Owner  23.57 kmpl  1396 CC   \n",
       "\n",
       "      max_power                     torque  seats  \n",
       "8123  82.85 bhp           113.7Nm@ 4000rpm    5.0  \n",
       "8124    110 bhp  24@ 1,900-2,750(kgm@ rpm)    5.0  \n",
       "8125   73.9 bhp             190Nm@ 2000rpm    5.0  \n",
       "8126     70 bhp        140Nm@ 1800-3000rpm    5.0  \n",
       "8127     70 bhp        140Nm@ 1800-3000rpm    5.0  "
      ]
     },
     "execution_count": 671,
     "metadata": {},
     "output_type": "execute_result"
    }
   ],
   "source": [
    "# Muestra las ultimas filas y columnas\n",
    "BD.tail()"
   ]
  },
  {
   "cell_type": "code",
   "execution_count": 673,
   "id": "dd2c2709-de91-47c5-9cf1-28f2f9b31319",
   "metadata": {},
   "outputs": [
    {
     "name": "stdout",
     "output_type": "stream",
     "text": [
      "<class 'pandas.core.frame.DataFrame'>\n",
      "RangeIndex: 8128 entries, 0 to 8127\n",
      "Data columns (total 13 columns):\n",
      " #   Column         Non-Null Count  Dtype  \n",
      "---  ------         --------------  -----  \n",
      " 0   name           8128 non-null   object \n",
      " 1   year           8128 non-null   int64  \n",
      " 2   selling_price  8128 non-null   int64  \n",
      " 3   km_driven      8128 non-null   int64  \n",
      " 4   fuel           8128 non-null   object \n",
      " 5   seller_type    8128 non-null   object \n",
      " 6   transmission   8128 non-null   object \n",
      " 7   owner          8128 non-null   object \n",
      " 8   mileage        7907 non-null   object \n",
      " 9   engine         7907 non-null   object \n",
      " 10  max_power      7913 non-null   object \n",
      " 11  torque         7906 non-null   object \n",
      " 12  seats          7907 non-null   float64\n",
      "dtypes: float64(1), int64(3), object(9)\n",
      "memory usage: 825.6+ KB\n"
     ]
    }
   ],
   "source": [
    "# Muestra el tipo de datos\n",
    "BD.info()"
   ]
  },
  {
   "cell_type": "code",
   "execution_count": 675,
   "id": "a4077576-d458-4465-a2fd-5053628e4ebd",
   "metadata": {},
   "outputs": [
    {
     "data": {
      "text/plain": [
       "name               0\n",
       "year               0\n",
       "selling_price      0\n",
       "km_driven          0\n",
       "fuel               0\n",
       "seller_type        0\n",
       "transmission       0\n",
       "owner              0\n",
       "mileage          221\n",
       "engine           221\n",
       "max_power        215\n",
       "torque           222\n",
       "seats            221\n",
       "dtype: int64"
      ]
     },
     "execution_count": 675,
     "metadata": {},
     "output_type": "execute_result"
    }
   ],
   "source": [
    "# Muestra los valores ausentes de la base de datos\n",
    "BD.isna().sum()"
   ]
  },
  {
   "cell_type": "code",
   "execution_count": 677,
   "id": "37fbb31c-d7ed-44d3-9dbc-368de04539ce",
   "metadata": {},
   "outputs": [
    {
     "name": "stdout",
     "output_type": "stream",
     "text": [
      "Número de valores duplicados: 1202\n"
     ]
    }
   ],
   "source": [
    "# con este validamos los valores duplicados\n",
    "print(f'Número de valores duplicados: {BD.duplicated().sum()}')"
   ]
  },
  {
   "cell_type": "code",
   "execution_count": 679,
   "id": "6efce694-5e1d-4d5e-88ba-16d29d37b6fe",
   "metadata": {},
   "outputs": [
    {
     "name": "stdout",
     "output_type": "stream",
     "text": [
      "Número de valores duplicados: 0 | Número de filas dataset: 6926\n"
     ]
    }
   ],
   "source": [
    "# Eliminar valores duplicados\n",
    "BD = BD.drop_duplicates().reset_index(drop=True)\n",
    "print(f'Número de valores duplicados: {BD.duplicated().sum()} | Número de filas dataset: {BD.shape[0]}')"
   ]
  },
  {
   "cell_type": "code",
   "execution_count": 681,
   "id": "0f60c415-8db1-420a-bed8-4080d10b787d",
   "metadata": {},
   "outputs": [
    {
     "data": {
      "text/html": [
       "<div>\n",
       "<style scoped>\n",
       "    .dataframe tbody tr th:only-of-type {\n",
       "        vertical-align: middle;\n",
       "    }\n",
       "\n",
       "    .dataframe tbody tr th {\n",
       "        vertical-align: top;\n",
       "    }\n",
       "\n",
       "    .dataframe thead th {\n",
       "        text-align: right;\n",
       "    }\n",
       "</style>\n",
       "<table border=\"1\" class=\"dataframe\">\n",
       "  <thead>\n",
       "    <tr style=\"text-align: right;\">\n",
       "      <th></th>\n",
       "      <th>Valores Ausentes</th>\n",
       "      <th>% Ausentes</th>\n",
       "    </tr>\n",
       "  </thead>\n",
       "  <tbody>\n",
       "    <tr>\n",
       "      <th>mileage</th>\n",
       "      <td>208</td>\n",
       "      <td>3.003176</td>\n",
       "    </tr>\n",
       "    <tr>\n",
       "      <th>engine</th>\n",
       "      <td>208</td>\n",
       "      <td>3.003176</td>\n",
       "    </tr>\n",
       "    <tr>\n",
       "      <th>max_power</th>\n",
       "      <td>205</td>\n",
       "      <td>2.959861</td>\n",
       "    </tr>\n",
       "    <tr>\n",
       "      <th>torque</th>\n",
       "      <td>209</td>\n",
       "      <td>3.017615</td>\n",
       "    </tr>\n",
       "    <tr>\n",
       "      <th>seats</th>\n",
       "      <td>208</td>\n",
       "      <td>3.003176</td>\n",
       "    </tr>\n",
       "  </tbody>\n",
       "</table>\n",
       "</div>"
      ],
      "text/plain": [
       "           Valores Ausentes  % Ausentes\n",
       "mileage                 208    3.003176\n",
       "engine                  208    3.003176\n",
       "max_power               205    2.959861\n",
       "torque                  209    3.017615\n",
       "seats                   208    3.003176"
      ]
     },
     "execution_count": 681,
     "metadata": {},
     "output_type": "execute_result"
    }
   ],
   "source": [
    "# Calcular el porcentaje que nos genera los valores ausentes de la BD\n",
    "nan_count = BD.isna().sum()\n",
    "nan_percent = 100 * BD.isna().sum() / len(BD)\n",
    "nan_table = pd.concat([nan_count, nan_percent], axis=1)\n",
    "nan_table.columns = ['Valores Ausentes', '% Ausentes']\n",
    "nan_table[nan_table.iloc[:,1] != 0]"
   ]
  },
  {
   "cell_type": "code",
   "execution_count": 172,
   "id": "b331e524-c678-44dc-8b22-030487e87b9b",
   "metadata": {},
   "outputs": [
    {
     "data": {
      "text/plain": [
       "mileage\n",
       "18.9 kmpl      0.030321\n",
       "NaN            0.030032\n",
       "19.7 kmpl      0.024256\n",
       "18.6 kmpl      0.021658\n",
       "21.1 kmpl      0.021080\n",
       "                 ...   \n",
       "12.5 kmpl      0.000144\n",
       "14.5 kmpl      0.000144\n",
       "16.34 kmpl     0.000144\n",
       "20.88 km/kg    0.000144\n",
       "16.51 kmpl     0.000144\n",
       "Name: proportion, Length: 394, dtype: float64"
      ]
     },
     "execution_count": 172,
     "metadata": {},
     "output_type": "execute_result"
    }
   ],
   "source": [
    "# Trabajamos los valores ausentes de mileage analizando la distribución de los datos\n",
    "BD['mileage'].value_counts(dropna=False, normalize=True)"
   ]
  },
  {
   "cell_type": "code",
   "execution_count": 174,
   "id": "8e83ecd6-3eb8-4192-970a-f1fbb932b7eb",
   "metadata": {},
   "outputs": [
    {
     "name": "stdout",
     "output_type": "stream",
     "text": [
      "Error al aplicar la función fill_name: 208\n"
     ]
    }
   ],
   "source": [
    "# se crea tabla dinamica entre el mileage y engine para devolver la moda y poder rellenar espacios faltantes\n",
    "mileage_without_nan = BD.dropna(subset=['mileage','engine'])\n",
    "mileage_engine = mileage_without_nan.pivot_table(index=['name','engine'], values='mileage', aggfunc=mode)\n",
    "\n",
    "# creamos una función para rellenar los campos ausentes con la moda y si no que aparezca la palabra ausente\n",
    "def fill_mileage(row):\n",
    "    engine = row['engine']\n",
    "    mileage = row['mileage']\n",
    "    name = row['name']\n",
    "\n",
    "    if pd.isna(mileage):\n",
    "        try:\n",
    "            return mileage_engine.loc[(name, engine), 'mileage']\n",
    "        except:\n",
    "            return 'Error'\n",
    "    return mileage\n",
    "\n",
    "# Aplicamos la función a nuestro dataset\n",
    "BD['mileage'] = BD.apply(fill_mileage, axis = 1)\n",
    "\n",
    "# Comprobamos si existen valores que no se rellenaron\n",
    "Errors = BD[BD['mileage'] == 'Error']\n",
    "print(f'Error al aplicar la función fill_name: {len(Errors)}')\n",
    "\n",
    "\n"
   ]
  },
  {
   "cell_type": "code",
   "execution_count": 176,
   "id": "59473564-0912-40d2-ad40-fff66f87af43",
   "metadata": {},
   "outputs": [
    {
     "name": "stdout",
     "output_type": "stream",
     "text": [
      "Número de errores en model: 0\n",
      "Valores únicos en mileage:\n",
      "mileage\n",
      "18.9 kmpl      0.060352\n",
      "19.7 kmpl      0.024256\n",
      "18.6 kmpl      0.021658\n",
      "21.1 kmpl      0.021080\n",
      "17.0 kmpl      0.017904\n",
      "                 ...   \n",
      "12.5 kmpl      0.000144\n",
      "14.5 kmpl      0.000144\n",
      "16.34 kmpl     0.000144\n",
      "20.88 km/kg    0.000144\n",
      "16.51 kmpl     0.000144\n",
      "Name: proportion, Length: 393, dtype: float64\n"
     ]
    }
   ],
   "source": [
    "# Reemplazamos los errores por la moda de la columna\n",
    "BD['mileage'] = BD['mileage'].replace('Error', mode(BD['mileage']))\n",
    "\n",
    "# Comprobamos los cambios realizados \n",
    "print('Número de errores en model:', len(BD[BD['engine'] == 'Error']))\n",
    "print('Valores únicos en mileage:')\n",
    "print(BD['mileage'].value_counts(dropna=False, normalize=True))"
   ]
  },
  {
   "cell_type": "code",
   "execution_count": 579,
   "id": "02e395b7-09cb-4188-be9f-6b39f7d98123",
   "metadata": {},
   "outputs": [
    {
     "data": {
      "text/plain": [
       "engine\n",
       "1248 CC    0.125123\n",
       "1197 CC    0.102362\n",
       "998 CC     0.055733\n",
       "796 CC     0.054626\n",
       "2179 CC    0.047859\n",
       "             ...   \n",
       "2835 CC    0.000123\n",
       "1489 CC    0.000123\n",
       "1422 CC    0.000123\n",
       "2496 CC    0.000123\n",
       "1950 CC    0.000123\n",
       "Name: proportion, Length: 122, dtype: float64"
      ]
     },
     "execution_count": 579,
     "metadata": {},
     "output_type": "execute_result"
    }
   ],
   "source": [
    "# Trabajamos los valores ausentes de engine analizando la distribución de los datos\n",
    "BD['engine'].value_counts(dropna=False, normalize=True)"
   ]
  },
  {
   "cell_type": "code",
   "execution_count": 180,
   "id": "a2954008-09c0-47d4-a58b-4c251b3a440b",
   "metadata": {},
   "outputs": [
    {
     "name": "stdout",
     "output_type": "stream",
     "text": [
      "Error al aplicar la función fill_name: 208\n"
     ]
    }
   ],
   "source": [
    "# se crea tabla dinamica entre el engine y mileage para devolver la moda y poder rellenar espacios faltantes\n",
    "engine_without_nan = BD.dropna(subset=['engine','mileage'])\n",
    "engine_mileage = engine_without_nan.pivot_table(index=['name','mileage'], values='engine', aggfunc=mode)\n",
    "\n",
    "# creamos una función para rellenar los campos ausentes con la moda y si no que aparezca la palabra ausente\n",
    "def fill_engine(row):\n",
    "    mileage = row['mileage']\n",
    "    engine = row['engine']\n",
    "    name = row['name']\n",
    "\n",
    "    if pd.isna(engine):\n",
    "        try:\n",
    "            return engine_mileage.loc[(name, mileage), 'engine']\n",
    "        except:\n",
    "            return 'Error'\n",
    "    return engine\n",
    "\n",
    "# Aplicamos la función a nuestro dataset\n",
    "BD['engine'] = BD.apply(fill_engine, axis = 1)\n",
    "\n",
    "# Comprobamos si existen valores que no se rellenaron\n",
    "Errors = BD[BD['engine'] == 'Error']\n",
    "print(f'Error al aplicar la función fill_name: {len(Errors)}')\n"
   ]
  },
  {
   "cell_type": "code",
   "execution_count": 184,
   "id": "b0dacf66-8d6e-4240-adda-58eda2dcf819",
   "metadata": {},
   "outputs": [
    {
     "name": "stdout",
     "output_type": "stream",
     "text": [
      "Número de errores en model: 0\n",
      "Valores únicos en engine:\n",
      "engine\n",
      "1248 CC    0.160988\n",
      "1197 CC    0.100780\n",
      "796 CC     0.060785\n",
      "998 CC     0.057465\n",
      "2179 CC    0.048946\n",
      "             ...   \n",
      "1489 CC    0.000144\n",
      "1422 CC    0.000144\n",
      "2496 CC    0.000144\n",
      "3604 CC    0.000144\n",
      "1950 CC    0.000144\n",
      "Name: proportion, Length: 121, dtype: float64\n"
     ]
    }
   ],
   "source": [
    "# Reemplazamos los errores por la moda de la columna\n",
    "BD['engine'] = BD['engine'].replace('Error', mode(BD['engine']))\n",
    "\n",
    "# Comprobamos los cambios realizados \n",
    "print('Número de errores en model:', len(BD[BD['mileage'] == 'Error']))\n",
    "print('Valores únicos en engine:')\n",
    "print(BD['engine'].value_counts(dropna=False, normalize=True))"
   ]
  },
  {
   "cell_type": "code",
   "execution_count": 186,
   "id": "7d3e3a0f-963a-4658-8f3b-0aa5fb52f6b0",
   "metadata": {},
   "outputs": [
    {
     "data": {
      "text/plain": [
       "max_power\n",
       "74 bhp        0.046780\n",
       "NaN           0.029599\n",
       "88.5 bhp      0.025556\n",
       "46.3 bhp      0.022813\n",
       "67 bhp        0.021946\n",
       "                ...   \n",
       "186 bhp       0.000144\n",
       "157.75 bhp    0.000144\n",
       "265 bhp       0.000144\n",
       "55.23 bhp     0.000144\n",
       "135.1 bhp     0.000144\n",
       "Name: proportion, Length: 323, dtype: float64"
      ]
     },
     "execution_count": 186,
     "metadata": {},
     "output_type": "execute_result"
    }
   ],
   "source": [
    "# Trabajamos los valores ausentes de max_power analizando la distribución de los datos\n",
    "BD['max_power'].value_counts(dropna=False, normalize=True)\n"
   ]
  },
  {
   "cell_type": "code",
   "execution_count": 188,
   "id": "60824c3b-258f-45ba-b85d-b628f466828f",
   "metadata": {},
   "outputs": [
    {
     "name": "stdout",
     "output_type": "stream",
     "text": [
      "Error al aplicar la función fill_name: 183\n"
     ]
    }
   ],
   "source": [
    "# se crea tabla dinamica entre el max_power y engine para devolver la moda y poder rellenar espacios faltantes\n",
    "max_power_without_nan = BD.dropna(subset=['max_power','engine'])\n",
    "max_power_engine = max_power_without_nan.pivot_table(index=['name','engine'], values='max_power', aggfunc=mode)\n",
    "\n",
    "# creamos una función para rellenar los campos ausentes con la moda y si no que aparezca la palabra ausente\n",
    "def fill_maxpower(row):\n",
    "    engine = row['engine']\n",
    "    max_power = row['max_power']\n",
    "    name = row['name']\n",
    "\n",
    "    if pd.isna(max_power):\n",
    "        try:\n",
    "            return max_power_engine.loc[(name, engine), 'max_power']\n",
    "        except:\n",
    "            return 'Error'\n",
    "    return max_power\n",
    "\n",
    "# Aplicamos la función a nuestro dataset\n",
    "BD['max_power'] = BD.apply(fill_maxpower, axis = 1)\n",
    "\n",
    "# Comprobamos si existen valores que no se rellenaron\n",
    "Errors = BD[BD['max_power'] == 'Error']\n",
    "print(f'Error al aplicar la función fill_name: {len(Errors)}')\n"
   ]
  },
  {
   "cell_type": "code",
   "execution_count": 190,
   "id": "5ba03676-f972-4c32-96c7-07963e2a7b7a",
   "metadata": {},
   "outputs": [
    {
     "name": "stdout",
     "output_type": "stream",
     "text": [
      "Número de errores en model: 0\n",
      "Valores únicos en max_power:\n",
      "max_power\n",
      "74 bhp        0.076379\n",
      "88.5 bhp      0.025556\n",
      "46.3 bhp      0.022813\n",
      "67 bhp        0.021946\n",
      "67.1 bhp      0.020358\n",
      "                ...   \n",
      "265 bhp       0.000144\n",
      "55.23 bhp     0.000144\n",
      "156 bhp       0.000144\n",
      "181.04 bhp    0.000144\n",
      "135.1 bhp     0.000144\n",
      "Name: proportion, Length: 322, dtype: float64\n"
     ]
    }
   ],
   "source": [
    "# Reemplazamos los errores por la moda de la columna\n",
    "BD['max_power'] = BD['max_power'].replace('Error', mode(BD['max_power']))\n",
    "\n",
    "# Comprobamos los cambios realizados \n",
    "print('Número de errores en model:', len(BD[BD['engine'] == 'Error']))\n",
    "print('Valores únicos en max_power:')\n",
    "print(BD['max_power'].value_counts(dropna=False, normalize=True))"
   ]
  },
  {
   "cell_type": "code",
   "execution_count": 581,
   "id": "7ee33fd6-ea81-4b77-9c0b-06da710e8f9c",
   "metadata": {},
   "outputs": [
    {
     "name": "stdout",
     "output_type": "stream",
     "text": [
      "Error al aplicar la función fill_name: 222\n"
     ]
    }
   ],
   "source": [
    "# se crea tabla dinamica entre el torque y engine para devolver la moda y poder rellenar espacios faltantes\n",
    "torque_without_nan = BD.dropna(subset=['torque','engine'])\n",
    "torque_engine = torque_without_nan.pivot_table(index=['name','engine'], values='torque', aggfunc=mode)\n",
    "\n",
    "# creamos una función para rellenar los campos ausentes con la moda y si no que aparezca la palabra ausente\n",
    "def fill_torque(row):\n",
    "    engine = row['engine']\n",
    "    torque = row['torque']\n",
    "    name = row['name']\n",
    "\n",
    "    if pd.isna(torque):\n",
    "        try:\n",
    "            return torque_engine.loc[(name, engine), 'torque']\n",
    "        except:\n",
    "            return 'Error'\n",
    "    return torque\n",
    "\n",
    "# Aplicamos la función a nuestro dataset\n",
    "BD['torque'] = BD.apply(fill_torque, axis = 1)\n",
    "\n",
    "# Comprobamos si existen valores que no se rellenaron\n",
    "Errors = BD[BD['torque'] == 'Error']\n",
    "print(f'Error al aplicar la función fill_name: {len(Errors)}')\n"
   ]
  },
  {
   "cell_type": "code",
   "execution_count": 194,
   "id": "25324f4e-76d7-4f84-96ef-93b4ecc28833",
   "metadata": {},
   "outputs": [
    {
     "name": "stdout",
     "output_type": "stream",
     "text": [
      "Número de errores en model: 0\n",
      "Valores únicos en torque:\n",
      "torque\n",
      "190Nm@ 2000rpm           0.098181\n",
      "200Nm@ 1750rpm           0.057465\n",
      "90Nm@ 3500rpm            0.050967\n",
      "62Nm@ 3000rpm            0.023101\n",
      "114Nm@ 4000rpm           0.022524\n",
      "                           ...   \n",
      "90Nm@ 2650rpm            0.000144\n",
      "240Nm@ 1850rpm           0.000144\n",
      "130Nm@ 3000rpm           0.000144\n",
      "219.9Nm@ 1750-2750rpm    0.000144\n",
      "96  Nm at 3000  rpm      0.000144\n",
      "Name: proportion, Length: 441, dtype: float64\n"
     ]
    }
   ],
   "source": [
    "# Reemplazamos los errores por la moda de la columna\n",
    "BD['torque'] = BD['torque'].replace('Error', mode(BD['torque']))\n",
    "\n",
    "# Comprobamos los cambios realizados \n",
    "print('Número de errores en model:', len(BD[BD['torque'] == 'Error']))\n",
    "print('Valores únicos en torque:')\n",
    "print(BD['torque'].value_counts(dropna=False, normalize=True))"
   ]
  },
  {
   "cell_type": "code",
   "execution_count": 196,
   "id": "9d1fb8f2-6c0d-4906-9f9a-1cea9a214755",
   "metadata": {},
   "outputs": [
    {
     "data": {
      "text/plain": [
       "seats\n",
       "5.0     0.758591\n",
       "7.0     0.139474\n",
       "8.0     0.032053\n",
       "NaN     0.030032\n",
       "4.0     0.017904\n",
       "9.0     0.010684\n",
       "6.0     0.008230\n",
       "10.0    0.002599\n",
       "2.0     0.000289\n",
       "14.0    0.000144\n",
       "Name: proportion, dtype: float64"
      ]
     },
     "execution_count": 196,
     "metadata": {},
     "output_type": "execute_result"
    }
   ],
   "source": [
    "# Trabajamos los valores ausentes de seats analizando la distribución de los datos\n",
    "BD['seats'].value_counts(dropna=False, normalize=True)"
   ]
  },
  {
   "cell_type": "code",
   "execution_count": 198,
   "id": "6babdfe6-0fce-40a1-b317-882101a3be0a",
   "metadata": {},
   "outputs": [
    {
     "name": "stdout",
     "output_type": "stream",
     "text": [
      "Error al aplicar la función fill_name: 208\n"
     ]
    }
   ],
   "source": [
    "# se crea tabla dinamica entre el seats y engine para devolver la moda y poder rellenar espacios faltantes\n",
    "seats_without_nan = BD.dropna(subset=['seats','name'])\n",
    "seats_engine = seats_without_nan.pivot_table(index=['name'], values='seats', aggfunc=mode)\n",
    "\n",
    "# creamos una función para rellenar los campos ausentes con la moda y si no que aparezca la palabra ausente\n",
    "def fill_seats(row):\n",
    "    seats = row['seats']\n",
    "    name = row['name']\n",
    "\n",
    "    if pd.isna(seats):\n",
    "        try:\n",
    "            return seats_name.loc[(name), 'seats']\n",
    "        except:\n",
    "            return 'Error'\n",
    "    return seats\n",
    "\n",
    "# Aplicamos la función a nuestro dataset\n",
    "BD['seats'] = BD.apply(fill_seats, axis = 1)\n",
    "\n",
    "# Comprobamos si existen valores que no se rellenaron\n",
    "Errors = BD[BD['seats'] == 'Error']\n",
    "print(f'Error al aplicar la función fill_name: {len(Errors)}')\n"
   ]
  },
  {
   "cell_type": "code",
   "execution_count": 200,
   "id": "f5ae3446-d5a1-47e5-9114-ce91883ba1b3",
   "metadata": {},
   "outputs": [
    {
     "name": "stdout",
     "output_type": "stream",
     "text": [
      "Número de errores en name: 0\n",
      "Valores únicos en seats:\n",
      "seats\n",
      "5.0     0.788623\n",
      "7.0     0.139474\n",
      "8.0     0.032053\n",
      "4.0     0.017904\n",
      "9.0     0.010684\n",
      "6.0     0.008230\n",
      "10.0    0.002599\n",
      "2.0     0.000289\n",
      "14.0    0.000144\n",
      "Name: proportion, dtype: float64\n"
     ]
    },
    {
     "name": "stderr",
     "output_type": "stream",
     "text": [
      "C:\\Users\\lizzeth\\AppData\\Local\\Temp\\ipykernel_21820\\2854275362.py:2: FutureWarning: Downcasting behavior in `replace` is deprecated and will be removed in a future version. To retain the old behavior, explicitly call `result.infer_objects(copy=False)`. To opt-in to the future behavior, set `pd.set_option('future.no_silent_downcasting', True)`\n",
      "  BD['seats'] = BD['seats'].replace('Error', mode(BD['seats']))\n"
     ]
    }
   ],
   "source": [
    "# Reemplazamos los errores por la moda de la columna\n",
    "BD['seats'] = BD['seats'].replace('Error', mode(BD['seats']))\n",
    "\n",
    "# Comprobamos los cambios realizados \n",
    "print('Número de errores en name:', len(BD[BD['name'] == 'Error']))\n",
    "print('Valores únicos en seats:')\n",
    "print(BD['seats'].value_counts(dropna=False, normalize=True))"
   ]
  },
  {
   "cell_type": "code",
   "execution_count": 591,
   "id": "082fe335-469d-4518-b865-f734ea78ec5a",
   "metadata": {},
   "outputs": [],
   "source": [
    "#Devuelve un diagrama de cajas con sus rangos intercuartílicos\n",
    "def boxplot_function(BD, column, ylim=(0,0)):\n",
    "    Q1= BD[column].quantile(0.25)\n",
    "    Q3= BD[column].quantile(0.75)\n",
    "    IQR = Q3 - Q1\n",
    "\n",
    "    BD.boxplot(column)\n",
    "    plt.ylim(ylim)\n",
    "    plt.hlines(y=[(Q1-1.5*IQR),(Q3+1.5*IQR)], xmin=0.9, xmax=1.1, color='red')\n",
    "    plt.show()"
   ]
  },
  {
   "cell_type": "code",
   "execution_count": 595,
   "id": "39bef17b-53c5-427c-9ae9-7d70710d0f13",
   "metadata": {},
   "outputs": [
    {
     "data": {
      "image/png": "[encoded data removed]",
      "text/plain": [
       "<Figure size 640x480 with 1 Axes>"
      ]
     },
     "metadata": {},
     "output_type": "display_data"
    }
   ],
   "source": [
    "#validar rango de años de los vehiculos\n",
    "boxplot_function(BD, 'year', (1980, 2024))"
   ]
  },
  {
   "cell_type": "code",
   "execution_count": 593,
   "id": "b7acd7f6-7ea1-4609-875c-bded4006f0d9",
   "metadata": {},
   "outputs": [
    {
     "name": "stdout",
     "output_type": "stream",
     "text": [
      "Fecha más antigua de registro de la BD: 1983\n",
      "Fecha más reciente de registro de la BD: 2020\n"
     ]
    }
   ],
   "source": [
    "print(f'''Fecha más antigua de registro de la BD: {BD['year'].min()}\n",
    "Fecha más reciente de registro de la BD: {BD['year'].max()}''')"
   ]
  },
  {
   "cell_type": "code",
   "execution_count": 597,
   "id": "37fbdc17-7984-4697-a007-76c0b403dc97",
   "metadata": {},
   "outputs": [
    {
     "data": {
      "image/png": "[encoded data removed]",
      "text/plain": [
       "<Figure size 640x480 with 1 Axes>"
      ]
     },
     "metadata": {},
     "output_type": "display_data"
    }
   ],
   "source": [
    "#validar rango de precios de los vehiculos\n",
    "boxplot_function(BD, 'selling_price', (29900, 11000000))"
   ]
  },
  {
   "cell_type": "code",
   "execution_count": 599,
   "id": "5ac69a9b-a9c4-4bf8-b648-22c05b2da342",
   "metadata": {},
   "outputs": [
    {
     "name": "stdout",
     "output_type": "stream",
     "text": [
      "El precio mas bajo es: 29999\n",
      "El valor mas precio es: 10000000\n"
     ]
    }
   ],
   "source": [
    "print(f'''El precio mas bajo es: {BD['selling_price'].min()}\n",
    "El valor mas precio es: {BD['selling_price'].max()}''')"
   ]
  },
  {
   "cell_type": "code",
   "execution_count": 601,
   "id": "0c2148b6-84d9-436f-871e-62052cb5df97",
   "metadata": {},
   "outputs": [
    {
     "data": {
      "text/plain": [
       "count    8128.000000\n",
       "mean     2013.804011\n",
       "std         4.044249\n",
       "min      1983.000000\n",
       "25%      2011.000000\n",
       "50%      2015.000000\n",
       "75%      2017.000000\n",
       "max      2020.000000\n",
       "Name: year, dtype: float64"
      ]
     },
     "execution_count": 601,
     "metadata": {},
     "output_type": "execute_result"
    }
   ],
   "source": [
    "# Filtramos nuestro BD por años\n",
    "BD_filtered = BD.query('1983 <= year <= 2020')\n",
    "\n",
    "# Comprobamos los cambios \n",
    "BD_filtered['year'].describe()"
   ]
  },
  {
   "cell_type": "code",
   "execution_count": 255,
   "id": "1ebc8ea1-4650-4018-ae9e-d349c7873038",
   "metadata": {},
   "outputs": [
    {
     "data": {
      "text/plain": [
       "0     6\n",
       "1     6\n",
       "2    14\n",
       "3    10\n",
       "4    13\n",
       "Name: car_age, dtype: int64"
      ]
     },
     "execution_count": 255,
     "metadata": {},
     "output_type": "execute_result"
    }
   ],
   "source": [
    "# Calculamos la edad de cada vehículo\n",
    "BD_filtered['car_age'] = 2020 - BD_filtered['year']\n",
    "\n",
    "# Comprobamos los valores calculados\n",
    "BD_filtered['car_age'].head()"
   ]
  },
  {
   "cell_type": "code",
   "execution_count": 603,
   "id": "05ca0d88-876b-4acb-83de-a11d4aa5eac5",
   "metadata": {},
   "outputs": [
    {
     "data": {
      "text/html": [
       "<div>\n",
       "<style scoped>\n",
       "    .dataframe tbody tr th:only-of-type {\n",
       "        vertical-align: middle;\n",
       "    }\n",
       "\n",
       "    .dataframe tbody tr th {\n",
       "        vertical-align: top;\n",
       "    }\n",
       "\n",
       "    .dataframe thead th {\n",
       "        text-align: right;\n",
       "    }\n",
       "</style>\n",
       "<table border=\"1\" class=\"dataframe\">\n",
       "  <thead>\n",
       "    <tr style=\"text-align: right;\">\n",
       "      <th></th>\n",
       "      <th>name</th>\n",
       "      <th>year</th>\n",
       "      <th>selling_price</th>\n",
       "      <th>km_driven</th>\n",
       "      <th>fuel</th>\n",
       "      <th>transmission</th>\n",
       "      <th>owner</th>\n",
       "      <th>mileage</th>\n",
       "      <th>engine</th>\n",
       "      <th>max_power</th>\n",
       "      <th>torque</th>\n",
       "      <th>seats</th>\n",
       "      <th>car_age</th>\n",
       "    </tr>\n",
       "  </thead>\n",
       "  <tbody>\n",
       "    <tr>\n",
       "      <th>0</th>\n",
       "      <td>Maruti Swift Dzire VDI</td>\n",
       "      <td>2014</td>\n",
       "      <td>450000</td>\n",
       "      <td>145500</td>\n",
       "      <td>Diesel</td>\n",
       "      <td>Manual</td>\n",
       "      <td>First Owner</td>\n",
       "      <td>23.4 kmpl</td>\n",
       "      <td>1248 CC</td>\n",
       "      <td>74 bhp</td>\n",
       "      <td>190Nm@ 2000rpm</td>\n",
       "      <td>5.0</td>\n",
       "      <td>10</td>\n",
       "    </tr>\n",
       "    <tr>\n",
       "      <th>1</th>\n",
       "      <td>Skoda Rapid 1.5 TDI Ambition</td>\n",
       "      <td>2014</td>\n",
       "      <td>370000</td>\n",
       "      <td>120000</td>\n",
       "      <td>Diesel</td>\n",
       "      <td>Manual</td>\n",
       "      <td>Second Owner</td>\n",
       "      <td>21.14 kmpl</td>\n",
       "      <td>1498 CC</td>\n",
       "      <td>103.52 bhp</td>\n",
       "      <td>250Nm@ 1500-2500rpm</td>\n",
       "      <td>5.0</td>\n",
       "      <td>10</td>\n",
       "    </tr>\n",
       "    <tr>\n",
       "      <th>2</th>\n",
       "      <td>Honda City 2017-2020 EXi</td>\n",
       "      <td>2006</td>\n",
       "      <td>158000</td>\n",
       "      <td>140000</td>\n",
       "      <td>Petrol</td>\n",
       "      <td>Manual</td>\n",
       "      <td>Third Owner</td>\n",
       "      <td>17.7 kmpl</td>\n",
       "      <td>1497 CC</td>\n",
       "      <td>78 bhp</td>\n",
       "      <td>12.7@ 2,700(kgm@ rpm)</td>\n",
       "      <td>5.0</td>\n",
       "      <td>18</td>\n",
       "    </tr>\n",
       "    <tr>\n",
       "      <th>3</th>\n",
       "      <td>Hyundai i20 Sportz Diesel</td>\n",
       "      <td>2010</td>\n",
       "      <td>225000</td>\n",
       "      <td>127000</td>\n",
       "      <td>Diesel</td>\n",
       "      <td>Manual</td>\n",
       "      <td>First Owner</td>\n",
       "      <td>23.0 kmpl</td>\n",
       "      <td>1396 CC</td>\n",
       "      <td>90 bhp</td>\n",
       "      <td>22.4 kgm at 1750-2750rpm</td>\n",
       "      <td>5.0</td>\n",
       "      <td>14</td>\n",
       "    </tr>\n",
       "    <tr>\n",
       "      <th>4</th>\n",
       "      <td>Maruti Swift VXI BSIII</td>\n",
       "      <td>2007</td>\n",
       "      <td>130000</td>\n",
       "      <td>120000</td>\n",
       "      <td>Petrol</td>\n",
       "      <td>Manual</td>\n",
       "      <td>First Owner</td>\n",
       "      <td>16.1 kmpl</td>\n",
       "      <td>1298 CC</td>\n",
       "      <td>88.2 bhp</td>\n",
       "      <td>11.5@ 4,500(kgm@ rpm)</td>\n",
       "      <td>5.0</td>\n",
       "      <td>17</td>\n",
       "    </tr>\n",
       "  </tbody>\n",
       "</table>\n",
       "</div>"
      ],
      "text/plain": [
       "                           name  year  selling_price  km_driven    fuel  \\\n",
       "0        Maruti Swift Dzire VDI  2014         450000     145500  Diesel   \n",
       "1  Skoda Rapid 1.5 TDI Ambition  2014         370000     120000  Diesel   \n",
       "2      Honda City 2017-2020 EXi  2006         158000     140000  Petrol   \n",
       "3     Hyundai i20 Sportz Diesel  2010         225000     127000  Diesel   \n",
       "4        Maruti Swift VXI BSIII  2007         130000     120000  Petrol   \n",
       "\n",
       "  transmission         owner     mileage   engine   max_power  \\\n",
       "0       Manual   First Owner   23.4 kmpl  1248 CC      74 bhp   \n",
       "1       Manual  Second Owner  21.14 kmpl  1498 CC  103.52 bhp   \n",
       "2       Manual   Third Owner   17.7 kmpl  1497 CC      78 bhp   \n",
       "3       Manual   First Owner   23.0 kmpl  1396 CC      90 bhp   \n",
       "4       Manual   First Owner   16.1 kmpl  1298 CC    88.2 bhp   \n",
       "\n",
       "                     torque  seats  car_age  \n",
       "0            190Nm@ 2000rpm    5.0       10  \n",
       "1       250Nm@ 1500-2500rpm    5.0       10  \n",
       "2     12.7@ 2,700(kgm@ rpm)    5.0       18  \n",
       "3  22.4 kgm at 1750-2750rpm    5.0       14  \n",
       "4     11.5@ 4,500(kgm@ rpm)    5.0       17  "
      ]
     },
     "execution_count": 603,
     "metadata": {},
     "output_type": "execute_result"
    }
   ],
   "source": [
    "# Mostramos BD final\n",
    "BD_final.head()"
   ]
  },
  {
   "cell_type": "code",
   "execution_count": 424,
   "id": "2a1e3bce-95e8-41f7-ba3a-9cc025775aa8",
   "metadata": {},
   "outputs": [
    {
     "data": {
      "text/html": [
       "<div>\n",
       "<style scoped>\n",
       "    .dataframe tbody tr th:only-of-type {\n",
       "        vertical-align: middle;\n",
       "    }\n",
       "\n",
       "    .dataframe tbody tr th {\n",
       "        vertical-align: top;\n",
       "    }\n",
       "\n",
       "    .dataframe thead th {\n",
       "        text-align: right;\n",
       "    }\n",
       "</style>\n",
       "<table border=\"1\" class=\"dataframe\">\n",
       "  <thead>\n",
       "    <tr style=\"text-align: right;\">\n",
       "      <th></th>\n",
       "      <th>year</th>\n",
       "      <th>selling_price</th>\n",
       "      <th>km_driven</th>\n",
       "      <th>seats</th>\n",
       "      <th>car_age</th>\n",
       "      <th>name_Ambassador Classic 2000 DSZ AC PS</th>\n",
       "      <th>name_Ambassador Grand 1500 DSZ BSIII</th>\n",
       "      <th>name_Ambassador Grand 2000 DSZ PW CL</th>\n",
       "      <th>name_Ashok Leyland Stile LE</th>\n",
       "      <th>name_Audi A3 35 TDI Premium Plus</th>\n",
       "      <th>...</th>\n",
       "      <th>torque_96.1Nm@ 3000rpm</th>\n",
       "      <th>torque_96Nm@ 2500rpm</th>\n",
       "      <th>torque_96Nm@ 3000rpm</th>\n",
       "      <th>torque_96Nm@ 3500rpm</th>\n",
       "      <th>torque_98Nm@ 1600-3000rpm</th>\n",
       "      <th>torque_99.04Nm@ 4500rpm</th>\n",
       "      <th>torque_99.07Nm@ 4500rpm</th>\n",
       "      <th>torque_99.1Nm@ 4500rpm</th>\n",
       "      <th>torque_99.8Nm@ 2700rpm</th>\n",
       "      <th>torque_99Nm@ 4500rpm</th>\n",
       "    </tr>\n",
       "  </thead>\n",
       "  <tbody>\n",
       "    <tr>\n",
       "      <th>0</th>\n",
       "      <td>2014</td>\n",
       "      <td>-0.129434</td>\n",
       "      <td>1.225357</td>\n",
       "      <td>5.0</td>\n",
       "      <td>-0.142153</td>\n",
       "      <td>False</td>\n",
       "      <td>False</td>\n",
       "      <td>False</td>\n",
       "      <td>False</td>\n",
       "      <td>False</td>\n",
       "      <td>...</td>\n",
       "      <td>False</td>\n",
       "      <td>False</td>\n",
       "      <td>False</td>\n",
       "      <td>False</td>\n",
       "      <td>False</td>\n",
       "      <td>False</td>\n",
       "      <td>False</td>\n",
       "      <td>False</td>\n",
       "      <td>False</td>\n",
       "      <td>False</td>\n",
       "    </tr>\n",
       "    <tr>\n",
       "      <th>1</th>\n",
       "      <td>2014</td>\n",
       "      <td>-0.283360</td>\n",
       "      <td>0.788368</td>\n",
       "      <td>5.0</td>\n",
       "      <td>-0.142153</td>\n",
       "      <td>False</td>\n",
       "      <td>False</td>\n",
       "      <td>False</td>\n",
       "      <td>False</td>\n",
       "      <td>False</td>\n",
       "      <td>...</td>\n",
       "      <td>False</td>\n",
       "      <td>False</td>\n",
       "      <td>False</td>\n",
       "      <td>False</td>\n",
       "      <td>False</td>\n",
       "      <td>False</td>\n",
       "      <td>False</td>\n",
       "      <td>False</td>\n",
       "      <td>False</td>\n",
       "      <td>False</td>\n",
       "    </tr>\n",
       "    <tr>\n",
       "      <th>2</th>\n",
       "      <td>2006</td>\n",
       "      <td>-0.691265</td>\n",
       "      <td>1.131104</td>\n",
       "      <td>5.0</td>\n",
       "      <td>1.819597</td>\n",
       "      <td>False</td>\n",
       "      <td>False</td>\n",
       "      <td>False</td>\n",
       "      <td>False</td>\n",
       "      <td>False</td>\n",
       "      <td>...</td>\n",
       "      <td>False</td>\n",
       "      <td>False</td>\n",
       "      <td>False</td>\n",
       "      <td>False</td>\n",
       "      <td>False</td>\n",
       "      <td>False</td>\n",
       "      <td>False</td>\n",
       "      <td>False</td>\n",
       "      <td>False</td>\n",
       "      <td>False</td>\n",
       "    </tr>\n",
       "    <tr>\n",
       "      <th>3</th>\n",
       "      <td>2010</td>\n",
       "      <td>-0.562352</td>\n",
       "      <td>0.908326</td>\n",
       "      <td>5.0</td>\n",
       "      <td>0.838722</td>\n",
       "      <td>False</td>\n",
       "      <td>False</td>\n",
       "      <td>False</td>\n",
       "      <td>False</td>\n",
       "      <td>False</td>\n",
       "      <td>...</td>\n",
       "      <td>False</td>\n",
       "      <td>False</td>\n",
       "      <td>False</td>\n",
       "      <td>False</td>\n",
       "      <td>False</td>\n",
       "      <td>False</td>\n",
       "      <td>False</td>\n",
       "      <td>False</td>\n",
       "      <td>False</td>\n",
       "      <td>False</td>\n",
       "    </tr>\n",
       "    <tr>\n",
       "      <th>4</th>\n",
       "      <td>2007</td>\n",
       "      <td>-0.745139</td>\n",
       "      <td>0.788368</td>\n",
       "      <td>5.0</td>\n",
       "      <td>1.574378</td>\n",
       "      <td>False</td>\n",
       "      <td>False</td>\n",
       "      <td>False</td>\n",
       "      <td>False</td>\n",
       "      <td>False</td>\n",
       "      <td>...</td>\n",
       "      <td>False</td>\n",
       "      <td>False</td>\n",
       "      <td>False</td>\n",
       "      <td>False</td>\n",
       "      <td>False</td>\n",
       "      <td>False</td>\n",
       "      <td>False</td>\n",
       "      <td>False</td>\n",
       "      <td>False</td>\n",
       "      <td>False</td>\n",
       "    </tr>\n",
       "  </tbody>\n",
       "</table>\n",
       "<p>5 rows × 3343 columns</p>\n",
       "</div>"
      ],
      "text/plain": [
       "   year  selling_price  km_driven  seats   car_age  \\\n",
       "0  2014      -0.129434   1.225357    5.0 -0.142153   \n",
       "1  2014      -0.283360   0.788368    5.0 -0.142153   \n",
       "2  2006      -0.691265   1.131104    5.0  1.819597   \n",
       "3  2010      -0.562352   0.908326    5.0  0.838722   \n",
       "4  2007      -0.745139   0.788368    5.0  1.574378   \n",
       "\n",
       "   name_Ambassador Classic 2000 DSZ AC PS  \\\n",
       "0                                   False   \n",
       "1                                   False   \n",
       "2                                   False   \n",
       "3                                   False   \n",
       "4                                   False   \n",
       "\n",
       "   name_Ambassador Grand 1500 DSZ BSIII  name_Ambassador Grand 2000 DSZ PW CL  \\\n",
       "0                                 False                                 False   \n",
       "1                                 False                                 False   \n",
       "2                                 False                                 False   \n",
       "3                                 False                                 False   \n",
       "4                                 False                                 False   \n",
       "\n",
       "   name_Ashok Leyland Stile LE  name_Audi A3 35 TDI Premium Plus  ...  \\\n",
       "0                        False                             False  ...   \n",
       "1                        False                             False  ...   \n",
       "2                        False                             False  ...   \n",
       "3                        False                             False  ...   \n",
       "4                        False                             False  ...   \n",
       "\n",
       "   torque_96.1Nm@ 3000rpm  torque_96Nm@ 2500rpm  torque_96Nm@ 3000rpm  \\\n",
       "0                   False                 False                 False   \n",
       "1                   False                 False                 False   \n",
       "2                   False                 False                 False   \n",
       "3                   False                 False                 False   \n",
       "4                   False                 False                 False   \n",
       "\n",
       "   torque_96Nm@ 3500rpm  torque_98Nm@ 1600-3000rpm  torque_99.04Nm@ 4500rpm  \\\n",
       "0                 False                      False                    False   \n",
       "1                 False                      False                    False   \n",
       "2                 False                      False                    False   \n",
       "3                 False                      False                    False   \n",
       "4                 False                      False                    False   \n",
       "\n",
       "   torque_99.07Nm@ 4500rpm  torque_99.1Nm@ 4500rpm  torque_99.8Nm@ 2700rpm  \\\n",
       "0                    False                   False                   False   \n",
       "1                    False                   False                   False   \n",
       "2                    False                   False                   False   \n",
       "3                    False                   False                   False   \n",
       "4                    False                   False                   False   \n",
       "\n",
       "   torque_99Nm@ 4500rpm  \n",
       "0                 False  \n",
       "1                 False  \n",
       "2                 False  \n",
       "3                 False  \n",
       "4                 False  \n",
       "\n",
       "[5 rows x 3343 columns]"
      ]
     },
     "execution_count": 424,
     "metadata": {},
     "output_type": "execute_result"
    }
   ],
   "source": [
    "# Codificamos las características categóricas a través de get_dummies\n",
    "BD_ohe = pd.get_dummies(BD_final, drop_first=True)\n",
    "\n",
    "# Establecemos las características numéricas\n",
    "numeric_ohe = ['selling_price', 'km_driven', 'car_age']\n",
    "\n",
    "# Escalamos los datos numéricos \n",
    "scaler = StandardScaler()\n",
    "scaler.fit(BD_ohe[numeric_ohe])\n",
    "BD_ohe[numeric_ohe] = scaler.transform(BD_ohe[numeric_ohe])\n",
    "BD_ohe.head()"
   ]
  },
  {
   "cell_type": "code",
   "execution_count": 623,
   "id": "9d7e1692-fc8c-43ac-9b34-f8eb6084b4a1",
   "metadata": {},
   "outputs": [
    {
     "name": "stdout",
     "output_type": "stream",
     "text": [
      "Tamaño del conjunto de entrenamiento: (5194, 3342), (5194,)\n",
      "Tamaño del conjunto de prueba: (1732, 3342), (1732,)\n"
     ]
    }
   ],
   "source": [
    "# Establecemos características y objetivo para la regresión lineal\n",
    "x_ohe = BD_ohe.drop('selling_price', axis=1)\n",
    "y_ohe = BD_ohe['selling_price']\n",
    "\n",
    "# Dividimos en un conjunto de entrenamiento y prueba en proporción 75:25\n",
    "x_train_ohe, x_test_ohe, y_train_ohe, y_test_ohe = train_test_split(x_ohe, y_ohe, test_size=0.25, random_state=0)\n",
    "\n",
    "# Comprobamos que los datos se dividieron correctamente\n",
    "print(f'Tamaño del conjunto de entrenamiento: {x_train_ohe.shape}, {y_train_ohe.shape}')\n",
    "print(f'Tamaño del conjunto de prueba: {x_test_ohe.shape}, {y_test_ohe.shape}')"
   ]
  },
  {
   "cell_type": "code",
   "execution_count": 625,
   "id": "292edb56-322f-46ab-b4fb-15c403fd1d17",
   "metadata": {},
   "outputs": [
    {
     "name": "stdout",
     "output_type": "stream",
     "text": [
      "      year  km_driven  seats   car_age  \\\n",
      "0     2014   1.225357    5.0 -0.142153   \n",
      "1     2014   0.788368    5.0 -0.142153   \n",
      "2     2006   1.131104    5.0  1.819597   \n",
      "3     2010   0.908326    5.0  0.838722   \n",
      "4     2007   0.788368    5.0  1.574378   \n",
      "...    ...        ...    ...       ...   \n",
      "6921  2013  -0.411210    5.0  0.103066   \n",
      "6922  2014   0.102895    5.0 -0.142153   \n",
      "6923  2013   0.617000    5.0  0.103066   \n",
      "6924  2007   0.771231    5.0  1.574378   \n",
      "6925  2009   0.788368    5.0  1.083940   \n",
      "\n",
      "      name_Ambassador Classic 2000 DSZ AC PS  \\\n",
      "0                                      False   \n",
      "1                                      False   \n",
      "2                                      False   \n",
      "3                                      False   \n",
      "4                                      False   \n",
      "...                                      ...   \n",
      "6921                                   False   \n",
      "6922                                   False   \n",
      "6923                                   False   \n",
      "6924                                   False   \n",
      "6925                                   False   \n",
      "\n",
      "      name_Ambassador Grand 1500 DSZ BSIII  \\\n",
      "0                                    False   \n",
      "1                                    False   \n",
      "2                                    False   \n",
      "3                                    False   \n",
      "4                                    False   \n",
      "...                                    ...   \n",
      "6921                                 False   \n",
      "6922                                 False   \n",
      "6923                                 False   \n",
      "6924                                 False   \n",
      "6925                                 False   \n",
      "\n",
      "      name_Ambassador Grand 2000 DSZ PW CL  name_Ashok Leyland Stile LE  \\\n",
      "0                                    False                        False   \n",
      "1                                    False                        False   \n",
      "2                                    False                        False   \n",
      "3                                    False                        False   \n",
      "4                                    False                        False   \n",
      "...                                    ...                          ...   \n",
      "6921                                 False                        False   \n",
      "6922                                 False                        False   \n",
      "6923                                 False                        False   \n",
      "6924                                 False                        False   \n",
      "6925                                 False                        False   \n",
      "\n",
      "      name_Audi A3 35 TDI Premium Plus  name_Audi A3 40 TFSI Premium  ...  \\\n",
      "0                                False                         False  ...   \n",
      "1                                False                         False  ...   \n",
      "2                                False                         False  ...   \n",
      "3                                False                         False  ...   \n",
      "4                                False                         False  ...   \n",
      "...                                ...                           ...  ...   \n",
      "6921                             False                         False  ...   \n",
      "6922                             False                         False  ...   \n",
      "6923                             False                         False  ...   \n",
      "6924                             False                         False  ...   \n",
      "6925                             False                         False  ...   \n",
      "\n",
      "      torque_96.1Nm@ 3000rpm  torque_96Nm@ 2500rpm  torque_96Nm@ 3000rpm  \\\n",
      "0                      False                 False                 False   \n",
      "1                      False                 False                 False   \n",
      "2                      False                 False                 False   \n",
      "3                      False                 False                 False   \n",
      "4                      False                 False                 False   \n",
      "...                      ...                   ...                   ...   \n",
      "6921                   False                 False                 False   \n",
      "6922                   False                 False                 False   \n",
      "6923                   False                 False                 False   \n",
      "6924                   False                 False                 False   \n",
      "6925                   False                 False                 False   \n",
      "\n",
      "      torque_96Nm@ 3500rpm  torque_98Nm@ 1600-3000rpm  \\\n",
      "0                    False                      False   \n",
      "1                    False                      False   \n",
      "2                    False                      False   \n",
      "3                    False                      False   \n",
      "4                    False                      False   \n",
      "...                    ...                        ...   \n",
      "6921                 False                      False   \n",
      "6922                 False                      False   \n",
      "6923                 False                      False   \n",
      "6924                 False                      False   \n",
      "6925                 False                      False   \n",
      "\n",
      "      torque_99.04Nm@ 4500rpm  torque_99.07Nm@ 4500rpm  \\\n",
      "0                       False                    False   \n",
      "1                       False                    False   \n",
      "2                       False                    False   \n",
      "3                       False                    False   \n",
      "4                       False                    False   \n",
      "...                       ...                      ...   \n",
      "6921                    False                    False   \n",
      "6922                    False                    False   \n",
      "6923                    False                    False   \n",
      "6924                    False                    False   \n",
      "6925                    False                    False   \n",
      "\n",
      "      torque_99.1Nm@ 4500rpm  torque_99.8Nm@ 2700rpm  torque_99Nm@ 4500rpm  \n",
      "0                      False                   False                 False  \n",
      "1                      False                   False                 False  \n",
      "2                      False                   False                 False  \n",
      "3                      False                   False                 False  \n",
      "4                      False                   False                 False  \n",
      "...                      ...                     ...                   ...  \n",
      "6921                   False                   False                 False  \n",
      "6922                   False                   False                 False  \n",
      "6923                   False                   False                 False  \n",
      "6924                   False                   False                 False  \n",
      "6925                   False                   False                 False  \n",
      "\n",
      "[6926 rows x 3342 columns]\n"
     ]
    }
   ],
   "source": [
    "print (x_ohe)"
   ]
  },
  {
   "cell_type": "code",
   "execution_count": 627,
   "id": "a0c4662b-f9ac-49c8-b918-70780a83cbe6",
   "metadata": {},
   "outputs": [
    {
     "name": "stdout",
     "output_type": "stream",
     "text": [
      "0      -0.129434\n",
      "1      -0.283360\n",
      "2      -0.691265\n",
      "3      -0.562352\n",
      "4      -0.745139\n",
      "          ...   \n",
      "6921   -0.495009\n",
      "6922   -0.081332\n",
      "6923   -0.379564\n",
      "6924   -0.735519\n",
      "6925   -0.260271\n",
      "Name: selling_price, Length: 6926, dtype: float64\n"
     ]
    }
   ],
   "source": [
    "print (y_ohe)"
   ]
  },
  {
   "cell_type": "code",
   "execution_count": 629,
   "id": "d8dddfb0-a992-4de7-ae57-d1320cd15786",
   "metadata": {},
   "outputs": [],
   "source": [
    "# Entrenamos el modelo de regresión lineal\n",
    "start_train = time.time()\n",
    "lr_model = LinearRegression()\n",
    "lr_model.fit(x_train_ohe, y_train_ohe)\n",
    "end_train = time.time()\n",
    "\n",
    "# Realizamos predicciones\n",
    "start_test = time.time()\n",
    "y_pred = lr_model.predict(x_test_ohe)\n",
    "end_test = time.time()\n",
    "\n"
   ]
  },
  {
   "cell_type": "code",
   "execution_count": 630,
   "id": "bba5d67f-1b84-45a7-baee-f6bdf9df1ccd",
   "metadata": {},
   "outputs": [
    {
     "name": "stdout",
     "output_type": "stream",
     "text": [
      "[-0.57617188 -0.70507812 -0.41113281 ... -0.70605469 -0.76367188\n",
      " -0.77148438]\n"
     ]
    }
   ],
   "source": [
    "print (y_pred)"
   ]
  },
  {
   "cell_type": "code",
   "execution_count": 633,
   "id": "876df1d5-2e11-4b50-b9bc-5b39d6199c52",
   "metadata": {},
   "outputs": [
    {
     "name": "stdout",
     "output_type": "stream",
     "text": [
      "1043   -0.600835\n",
      "888    -0.764380\n",
      "3768   -0.610454\n",
      "311     0.034113\n",
      "4670   -0.177536\n",
      "          ...   \n",
      "2213   -0.523870\n",
      "3559   -0.321842\n",
      "192    -0.581592\n",
      "2459   -0.668176\n",
      "6618   -0.841343\n",
      "Name: selling_price, Length: 1732, dtype: float64\n"
     ]
    }
   ],
   "source": [
    "print (y_test_ohe)"
   ]
  },
  {
   "cell_type": "code",
   "execution_count": 718,
   "id": "b62b9aaf-2cc8-4911-9f1c-90b01d9d7ed7",
   "metadata": {},
   "outputs": [
    {
     "name": "stdout",
     "output_type": "stream",
     "text": [
      "Mean Squared Error (MSE): 2.5033663954156093e+19\n",
      "R-squared(R²): -1.923557246273883e+19\n"
     ]
    }
   ],
   "source": [
    "from sklearn.metrics import mean_squared_error, mean_absolute_error, r2_score\n",
    "import numpy as np\n",
    "\n",
    "# Evaluamos rl desempeño dle modelo\n",
    "mse = mean_squared_error(y_test_ohe, y_pred)\n",
    "r2 = r2_score(y_test_ohe, y_pred)\n",
    "\n",
    "# Mostrar resultados de lo evaluado\n",
    "print(\"Mean Squared Error (MSE):\", mse)\n",
    "print(\"R-squared(R²):\", r2)"
   ]
  },
  {
   "cell_type": "code",
   "execution_count": 730,
   "id": "07a78344-46a9-427e-8f07-8ff7189bd200",
   "metadata": {},
   "outputs": [
    {
     "name": "stdout",
     "output_type": "stream",
     "text": [
      "Mean Squared Error (MSE): 2.5033663954156093e+19\n"
     ]
    },
    {
     "data": {
      "image/png": "[encoded data removed]",
      "text/plain": [
       "<Figure size 640x480 with 1 Axes>"
      ]
     },
     "metadata": {},
     "output_type": "display_data"
    }
   ],
   "source": [
    "from sklearn.metrics import mean_squared_error, r2_score\n",
    "import numpy as np\n",
    "\n",
    "# Assuming you already have y_test_ohe and y_pred\n",
    "\n",
    "# Calculate MSE and R²\n",
    "mse = mean_squared_error(y_test_ohe, y_pred)\n",
    "\n",
    "# Print results\n",
    "print(\"Mean Squared Error (MSE):\", mse)\n",
    "\n",
    "plt.scatter(y_test_ohe, y_pred)\n",
    "plt.xlabel(\"Actual Values\")\n",
    "plt.ylabel(\"Predicted Values\")\n",
    "plt.title(\"Predicted vs. Actual Values\")\n",
    "plt.show()"
   ]
  },
  {
   "cell_type": "code",
   "execution_count": 732,
   "id": "5a94c6ad-231e-4ee1-9b19-87d3bacf92c8",
   "metadata": {},
   "outputs": [
    {
     "data": {
      "image/png": "[encoded data removed]",
      "text/plain": [
       "<Figure size 640x480 with 1 Axes>"
      ]
     },
     "metadata": {},
     "output_type": "display_data"
    }
   ],
   "source": [
    "#Grafico de dispersión\n",
    "plt.scatter(y_test_ohe, y_pred, marker='o', color='blue', label='Datos')\n",
    "plt.plot(np.unique(y_test_ohe), np.poly1d(np.polyfit(y_test_ohe, y_pred, 1))(np.unique(y_test_ohe)), color='red', label='Regresión Lineal')\n",
    "plt.plot([min(y_test_ohe), max(y_test_ohe)], [min(y_test_ohe), max(y_test_ohe)], color='gray', linestyle='--', label='Línea de Identidad')\n",
    "\n",
    "plt.xlabel('Valores Reales')\n",
    "plt.ylabel('Valores Predichos')\n",
    "plt.title(\"Comparación entre Valores Reales y Predichos\")\n",
    "plt.legend()\n",
    "plt.show()"
   ]
  },
  {
   "cell_type": "code",
   "execution_count": null,
   "id": "da38c50a-0b58-4417-8c5e-71a244bdf5ff",
   "metadata": {},
   "outputs": [],
   "source": []
  }
 ],
 "metadata": {
  "kernelspec": {
   "display_name": "Python 3 (ipykernel)",
   "language": "python",
   "name": "python3"
  },
  "language_info": {
   "codemirror_mode": {
    "name": "ipython",
    "version": 3
   },
   "file_extension": ".py",
   "mimetype": "text/x-python",
   "name": "python",
   "nbconvert_exporter": "python",
   "pygments_lexer": "ipython3",
   "version": "3.12.4"
  }
 },
 "nbformat": 4,
 "nbformat_minor": 5
}
